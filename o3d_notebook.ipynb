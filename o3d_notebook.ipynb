{
 "cells": [
  {
   "cell_type": "code",
   "execution_count": 1,
   "id": "e95ef480-4f02-467d-928c-39f5f43a1d35",
   "metadata": {},
   "outputs": [
    {
     "name": "stdout",
     "output_type": "stream",
     "text": [
      "Jupyter environment detected. Enabling Open3D WebVisualizer.\n",
      "[Open3D INFO] WebRTC GUI backend enabled.\n",
      "[Open3D INFO] WebRTCWindowSystem: HTTP handshake server disabled.\n"
     ]
    }
   ],
   "source": [
    "import numpy as np\n",
    "import open3d as o3d\n",
    "import pandas as pd\n",
    "from sklearn.cluster import KMeans\n",
    "import random\n",
    "import os\n",
    "import glob\n",
    "from sklearn.naive_bayes import BernoulliNB\n",
    "from sklearn.cluster import KMeans"
   ]
  },
  {
   "cell_type": "code",
   "execution_count": 2,
   "id": "422caedb-24ae-45c0-a312-77e77c160bd9",
   "metadata": {},
   "outputs": [],
   "source": [
    "def preprocess_point_cloud(pcd):\n",
    "    pcd = pcd.voxel_down_sample(voxel_size=0.02)\n",
    "\n",
    "    radius_normal = 0.2\n",
    "    print(\"estimating normals\")\n",
    "    pcd.estimate_normals(\n",
    "        o3d.geometry.KDTreeSearchParamHybrid(radius=radius_normal, max_nn=30))\n",
    "\n",
    "    radius_feature = 0.5\n",
    "    print(\"computing fpfh\")\n",
    "    pcd_fpfh = o3d.pipelines.registration.compute_fpfh_feature(\n",
    "        pcd,\n",
    "        o3d.geometry.KDTreeSearchParamHybrid(radius=radius_feature, max_nn=100))\n",
    "    fpfh = np.asarray(pcd_fpfh.data).T\n",
    "    return pcd, fpfh"
   ]
  },
  {
   "cell_type": "code",
   "execution_count": 3,
   "id": "441f79c7-8279-45db-9b05-d42780935fc4",
   "metadata": {},
   "outputs": [],
   "source": [
    "def cov_metrics(pcd):\n",
    "    print(\"estimating covariances\")\n",
    "    covs = pcd.estimate_covariances()\n",
    "    covs = np.asarray(pcd.covariances)\n",
    "\n",
    "    print(\"computing eigen-based metrics\")\n",
    "    metrics = []\n",
    "    for pt in covs:\n",
    "        eigenvalues = np.linalg.eigvals(pt)\n",
    "        e1, e2, e3 = eigenvalues\n",
    "        \n",
    "        linearity = (e1 - e2) / e1\n",
    "        planarity = (e2 - e3) / e1\n",
    "        scattering = e3 / e1\n",
    "        omnivariance = (e1 * e2 * e3) ** (1 / 3)\n",
    "        anisotropy = (e1 - e3) / e1\n",
    "        eigentropy = -(e1 * np.log(e1) + e2 * np.log(e2) + e3 * np.log(e3))\n",
    "        curvature = e3 / (e1 + e2 + e3)\n",
    "\n",
    "        metrics.append((linearity, planarity, scattering, omnivariance, anisotropy, eigentropy, curvature))\n",
    "\n",
    "    dtype = [('linearity', 'f8'), ('planarity', 'f8'), ('scattering', 'f8'), \n",
    "            ('omnivariance', 'f8'), ('anisotropy', 'f8'), ('eigentropy', 'f8'), \n",
    "            ('curvature', 'f8')]\n",
    "    \n",
    "    metrics_array = np.array(metrics, dtype=dtype)\n",
    "  \n",
    "    return np.array([tuple(row) for row in metrics_array])"
   ]
  },
  {
   "cell_type": "code",
   "execution_count": 4,
   "id": "579d3933-a022-41c4-bd6f-7e73045e3629",
   "metadata": {},
   "outputs": [],
   "source": [
    "def get_clusters(df):\n",
    "    df['cluster'] = KMeans(n_clusters=4,\n",
    "                           random_state=0,\n",
    "                           init=initial_centroids).fit(df).labels_\n",
    "    return df"
   ]
  },
  {
   "cell_type": "code",
   "execution_count": 5,
   "id": "97370a21-04f1-4fac-98fd-786746798702",
   "metadata": {},
   "outputs": [
    {
     "name": "stdout",
     "output_type": "stream",
     "text": [
      "reading point cloud\n",
      "preprocessing point cloud\n",
      "estimating normals\n",
      "computing fpfh\n",
      "getting metrics\n",
      "estimating covariances\n",
      "computing eigen-based metrics\n"
     ]
    }
   ],
   "source": [
    "print(\"reading point cloud\")\n",
    "pcd = o3d.io.read_point_cloud(\"C:/Users/ellie/OneDrive/Desktop/lidar_local/ccb-3_preprocessed.pcd\")\n",
    "print(\"preprocessing point cloud\")\n",
    "pcd, fpfh = preprocess_point_cloud(pcd)\n",
    "print(\"getting metrics\")\n",
    "cov = cov_metrics(pcd)\n",
    "\n",
    "cov_headers = ['linearity', 'planarity', 'scattering', 'omnivariance', 'anisotropy', 'eigentropy', 'curvature']\n",
    "header = ['x', 'y', 'z'] + [f'feature{i}' for i in range(fpfh.shape[1])] + cov_headers\n",
    "all_metrics = np.hstack([np.asarray(pcd.points), fpfh, cov])\n",
    "\n",
    "df = pd.DataFrame(all_metrics, columns=header)"
   ]
  },
  {
   "cell_type": "code",
   "execution_count": 6,
   "id": "8b1d9c04-1348-46b0-8c8e-4a44297df51a",
   "metadata": {},
   "outputs": [],
   "source": [
    "cov_headers = ['linearity', 'planarity', 'scattering', 'omnivariance', 'anisotropy', 'eigentropy', 'curvature']\n",
    "header = ['x', 'y', 'z'] + [f'feature{i}' for i in range(fpfh.shape[1])] + cov_headers\n",
    "all_metrics = np.hstack([np.asarray(pcd.points), fpfh, cov])\n",
    "df = pd.DataFrame(all_metrics, columns=header)"
   ]
  },
  {
   "cell_type": "code",
   "execution_count": 7,
   "id": "bad26d77-c690-4d7b-a6e8-2de164629bd1",
   "metadata": {},
   "outputs": [
    {
     "name": "stdout",
     "output_type": "stream",
     "text": [
      "                x        y         z   feature0   feature1   feature2  \\\n",
      "2        4.905200 -0.43500  0.046400  13.666005  24.332968   7.588833   \n",
      "3        1.139750 -5.37725 -0.177000  10.355552   0.064889   0.000000   \n",
      "4       -8.092500 -4.88075 -0.781250   0.635878   0.000000   0.000000   \n",
      "5       -2.220333 -0.27700 -0.178667  19.358223  20.594219  10.085666   \n",
      "7        0.255000  0.73600 -0.153250  26.001741   0.865008   0.326415   \n",
      "...           ...      ...       ...        ...        ...        ...   \n",
      "3235342 -6.218000  3.98500 -0.619000   3.158911   0.505319   0.200013   \n",
      "3235343 -6.274000  4.01100 -0.616000   8.294866   1.142367   0.378043   \n",
      "3235344 -6.294000  4.01700 -0.605000  12.175871   4.792762   0.843039   \n",
      "3235345 -8.119000  4.90000 -0.677000   7.205642   0.061322   0.065501   \n",
      "3235346 -7.673000  4.60600 -0.386000   2.675847   8.224408   9.266978   \n",
      "\n",
      "          feature3   feature4    feature5   feature6  ...  feature31  \\\n",
      "2         7.179208  26.230699   63.518802  23.397200  ...  20.342975   \n",
      "3         1.229529  47.862214  124.097790   1.223205  ...  11.499981   \n",
      "4         0.000000   0.883285  194.347862   3.298039  ...   0.099370   \n",
      "5        16.850618  25.630476   28.847577  15.577374  ...  37.167317   \n",
      "7         2.428331   9.476320  116.880922  15.478109  ...   6.611670   \n",
      "...            ...        ...         ...        ...  ...        ...   \n",
      "3235342   0.148463  25.341280  149.477959   1.198071  ...   5.044379   \n",
      "3235343   0.550569  19.971363  128.487339  11.565426  ...  12.523609   \n",
      "3235344   1.499758  17.322498  109.144009  11.989454  ...  10.237154   \n",
      "3235345   0.410699   5.981800  170.790085   0.933822  ...   1.833843   \n",
      "3235346  18.774631  73.764649   51.933840   8.236302  ...  22.727122   \n",
      "\n",
      "         feature32  linearity  planarity  scattering  omnivariance  \\\n",
      "2        17.325076   0.537294  -0.145759    0.608465      0.000324   \n",
      "3         0.638159  -8.568774  -3.197417   12.766192      0.000277   \n",
      "4         0.068122   0.467272   0.504693    0.028034      0.000291   \n",
      "5        39.398085   0.572496  -0.217830    0.645334      0.000351   \n",
      "7         5.287639  -1.706832  -1.569016    4.275848      0.000259   \n",
      "...            ...        ...        ...         ...           ...   \n",
      "3235342   3.560137   0.199118   0.728118    0.072764      0.000242   \n",
      "3235343   3.840538  -4.219479  -3.961529    9.181008      0.000272   \n",
      "3235344  11.115792  -4.248965  -4.051355    9.300320      0.000264   \n",
      "3235345   0.557871 -43.592134 -15.834225   60.426359      0.000277   \n",
      "3235346  18.098221   0.974526  -0.343465    0.368940      0.001855   \n",
      "\n",
      "         anisotropy  eigentropy  curvature  cluster  \n",
      "2          0.391535    0.008113   0.293778        2  \n",
      "3        -11.766192    0.009729   0.547084        0  \n",
      "4          0.971966    0.012956   0.017962        1  \n",
      "5          0.354666    0.008755   0.311329        2  \n",
      "7         -3.275848    0.007287   0.535641        0  \n",
      "...             ...         ...        ...      ...  \n",
      "3235342    0.927236    0.008870   0.038836        1  \n",
      "3235343   -8.181008    0.008771   0.596151        0  \n",
      "3235344   -8.300320    0.008595   0.598119        0  \n",
      "3235345  -59.426359    0.014559   0.569961        1  \n",
      "3235346    0.631060    0.062082   0.264584        2  \n",
      "\n",
      "[1458373 rows x 44 columns]\n"
     ]
    }
   ],
   "source": [
    "df = df[df['z'] <= 0.25]\n",
    "df['cluster'] = KMeans(n_clusters=3, random_state=0).fit(df).labels_\n",
    "print(df)"
   ]
  },
  {
   "cell_type": "code",
   "execution_count": 8,
   "id": "271d8615-b8c3-4923-827e-1e9e8e90d83b",
   "metadata": {},
   "outputs": [
    {
     "name": "stdout",
     "output_type": "stream",
     "text": [
      "[Open3D INFO] Resetting default logger to print to terminal.\n"
     ]
    },
    {
     "data": {
      "application/vnd.jupyter.widget-view+json": {
       "model_id": "fccfab21d5fd48cfaa1d0451a4d50826",
       "version_major": 2,
       "version_minor": 0
      },
      "text/plain": [
       "WebVisualizer(window_uid='window_0')"
      ]
     },
     "metadata": {},
     "output_type": "display_data"
    }
   ],
   "source": [
    "from open3d.web_visualizer import draw\n",
    "\n",
    "just_clusters = df[[\"x\", \"y\", \"z\", \"cluster\"]]\n",
    "cluster_0 = just_clusters[just_clusters['cluster'] == 0]\n",
    "cluster_1 = just_clusters[just_clusters['cluster'] == 1]\n",
    "cluster_2 = just_clusters[just_clusters['cluster'] == 2]\n",
    "\n",
    "zero = cluster_0[['x', 'y', 'z']].values\n",
    "one = cluster_1[['x', 'y', 'z']].values\n",
    "two = cluster_2[['x', 'y', 'z']].values\n",
    "\n",
    "pcd2 = o3d.geometry.PointCloud()\n",
    "pcd2.points = o3d.utility.Vector3dVector(two)\n",
    "draw(pcd2)"
   ]
  },
  {
   "cell_type": "code",
   "execution_count": null,
   "id": "c9b9ea0e-4a10-4f3e-92ce-61dcf5ff32cb",
   "metadata": {},
   "outputs": [],
   "source": []
  },
  {
   "cell_type": "code",
   "execution_count": null,
   "id": "ae40033a-0442-4477-95af-81bc49159066",
   "metadata": {},
   "outputs": [],
   "source": []
  },
  {
   "cell_type": "code",
   "execution_count": null,
   "id": "32b3fc7c-b2ce-4585-a425-cc9267e49914",
   "metadata": {},
   "outputs": [],
   "source": []
  },
  {
   "cell_type": "code",
   "execution_count": null,
   "id": "c54a9a43-c467-4648-b434-4cfd59891efc",
   "metadata": {},
   "outputs": [],
   "source": []
  },
  {
   "cell_type": "code",
   "execution_count": null,
   "id": "935c17ce-1721-469f-bbda-14998381499a",
   "metadata": {},
   "outputs": [],
   "source": []
  },
  {
   "cell_type": "code",
   "execution_count": null,
   "id": "db16972e-871b-4bbf-b7ee-fcfa9bef67bf",
   "metadata": {},
   "outputs": [],
   "source": []
  }
 ],
 "metadata": {
  "kernelspec": {
   "display_name": "Python 3 (ipykernel)",
   "language": "python",
   "name": "python3"
  },
  "language_info": {
   "codemirror_mode": {
    "name": "ipython",
    "version": 3
   },
   "file_extension": ".py",
   "mimetype": "text/x-python",
   "name": "python",
   "nbconvert_exporter": "python",
   "pygments_lexer": "ipython3",
   "version": "3.11.9"
  }
 },
 "nbformat": 4,
 "nbformat_minor": 5
}
